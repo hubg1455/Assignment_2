{
 "cells": [
  {
   "cell_type": "markdown",
   "id": "cae73fdb",
   "metadata": {},
   "source": [
    "1.What are the two values of the Boolean data type? How do you write them?\n"
   ]
  },
  {
   "cell_type": "markdown",
   "id": "2545e3fe",
   "metadata": {},
   "source": [
    "Boolean data type are True and False. We can write True as 1 and False as 0."
   ]
  },
  {
   "cell_type": "markdown",
   "id": "d6e82653",
   "metadata": {},
   "source": [
    "2. What are the three different types of Boolean operators?"
   ]
  },
  {
   "cell_type": "markdown",
   "id": "4930a2f3",
   "metadata": {},
   "source": [
    "Or, And , Not operators"
   ]
  },
  {
   "cell_type": "markdown",
   "id": "f09efe80",
   "metadata": {},
   "source": [
    "3. Make a list of each Boolean operator's truth tables (i.e. every possible combination of Boolean values for the operator and what it evaluate )."
   ]
  },
  {
   "cell_type": "markdown",
   "id": "dd4612ec",
   "metadata": {},
   "source": [
    "AND Truth Table\n",
    "True\tand\tTrue\t=True\n",
    "True\tand\tFalse\t=False\n",
    "False\tand\tTrue\t=False\n",
    "False\tand\tFalse\t=False\n",
    "OR Truth Table\n",
    "True\tor\tTrue\t=True\n",
    "True\tor\tFalse\t=True\n",
    "False\tor\tTrue\t=True\n",
    "False\tor\tFalse\t=False\n",
    "NOT Truth Table\n",
    "not\tTrue\t=False\n",
    "not\tFalse\t=True\n"
   ]
  },
  {
   "cell_type": "markdown",
   "id": "ae305a9e",
   "metadata": {},
   "source": [
    "4. What are the values of the following expressions?"
   ]
  },
  {
   "cell_type": "markdown",
   "id": "5f6b11d2",
   "metadata": {},
   "source": [
    "(5 > 4) and (3 == 5)\n",
    "False\n",
    "not (5 > 4)\n",
    "False\n",
    "(5 > 4) or (3 == 5)\n",
    "True\n",
    "not ((5 > 4) or (3 == 5))\n",
    "False\n",
    "(True and True) and (True == False)\n",
    "False\n",
    "(not False) or (not True)\n",
    "True\n"
   ]
  },
  {
   "cell_type": "markdown",
   "id": "5c3b39ef",
   "metadata": {},
   "source": [
    "5. What are the six comparison operators?"
   ]
  },
  {
   "cell_type": "markdown",
   "id": "32dc18bd",
   "metadata": {},
   "source": [
    "1.Equal to operator \n",
    "2.Not equal to operator \n",
    "3.Greater Than operator \n",
    "4.Less Than operator \n",
    "5.Greater Than equal to operator\n",
    "6.Less Than equal to operator\n"
   ]
  },
  {
   "cell_type": "markdown",
   "id": "56eb02ce",
   "metadata": {},
   "source": [
    "6. How do you tell the difference between the equal to and assignment operators? Describe a condition and when you would use one."
   ]
  },
  {
   "cell_type": "markdown",
   "id": "1e459d2d",
   "metadata": {},
   "source": [
    "'=' is a assignment operator and '==' is a equal to operator. E.g. a=10 that is assignment operator\n",
    " and in equal to operator where two operands are equal or not. \n",
    "4==4  ,It will return true \n"
   ]
  },
  {
   "cell_type": "markdown",
   "id": "cfa863ca",
   "metadata": {},
   "source": [
    "7. Identify the three blocks in this code:"
   ]
  },
  {
   "cell_type": "markdown",
   "id": "cc629576",
   "metadata": {},
   "source": [
    "spam = 0\n",
    "if spam == 10:\n",
    "    print('eggs')\n",
    "    if spam > 5:\n",
    "        print('bacon')\n",
    "    else:\n",
    "        print('ham')\n",
    "    print('spam')\n",
    "print('spam')\n"
   ]
  },
  {
   "cell_type": "markdown",
   "id": "ec2def88",
   "metadata": {},
   "source": [
    "8. Write code that prints Hello if 1 is stored in spam, prints Howdy if 2 is stored in spam, and prints Greetings! if anything else is stored in spam."
   ]
  },
  {
   "cell_type": "markdown",
   "id": "7e11947c",
   "metadata": {},
   "source": [
    "spam=[]\n",
    "a=int(input(\"enter number:\"))\n",
    "if a==1:\n",
    "    spam.append(a)\n",
    "    print(\"Hello\")\n",
    "elif a==2:\n",
    "    spam.append(a)\n",
    "    print(\"Howdy\")\n",
    "else:\n",
    "    print(\"Greetings!\")"
   ]
  },
  {
   "cell_type": "markdown",
   "id": "31300ed2",
   "metadata": {},
   "source": [
    "9.If your programme is stuck in an endless loop, what keys you’ll press?"
   ]
  },
  {
   "cell_type": "markdown",
   "id": "ee80ed0c",
   "metadata": {},
   "source": [
    "Cntrl+C"
   ]
  },
  {
   "cell_type": "markdown",
   "id": "4a3f5745",
   "metadata": {},
   "source": [
    "10. How can you tell the difference between break and continue?"
   ]
  },
  {
   "cell_type": "markdown",
   "id": "d592898a",
   "metadata": {},
   "source": [
    "Break : when condition is met then it terminate the whole loop and jump on next statement \n",
    "Continue: when condition met it terminates only that current condition and control is transferred to the beginning of the loop.\n"
   ]
  },
  {
   "cell_type": "markdown",
   "id": "46ac407c",
   "metadata": {},
   "source": [
    "11. In a for loop, what is the difference between range(10), range(0, 10), and range(0, 10, 1)?"
   ]
  },
  {
   "cell_type": "markdown",
   "id": "f38ed1e1",
   "metadata": {},
   "source": [
    "for i in range(0,10,1):\n",
    "    print(i)\n",
    "    \n",
    "range(10) means range will be from 0 upto any value which mentioned what excluding\n",
    "range(0,10) also starts from 0 to not including 10\n",
    "range(0,10,1) means 1 will be step between 0 to 10(not include)\n"
   ]
  },
  {
   "cell_type": "markdown",
   "id": "cda106c6",
   "metadata": {},
   "source": [
    "12. Write a short program that prints the numbers 1 to 10 using a for loop. Then write an equivalent program that prints the numbers 1 to 10 using a while loop."
   ]
  },
  {
   "cell_type": "markdown",
   "id": "38ca8ddb",
   "metadata": {},
   "source": [
    "for i in range(1,11):    # with use of for loop\n",
    "    print(i)\n",
    "    \n",
    "a=1                  # with use of while loop\n",
    "while a<11:\n",
    "    print(a)\n",
    "    a=a+1   "
   ]
  },
  {
   "cell_type": "markdown",
   "id": "9835ebc8",
   "metadata": {},
   "source": [
    "13. If you had a function named bacon() inside a module named spam, how would you call it after importing spam?    "
   ]
  },
  {
   "cell_type": "markdown",
   "id": "3e94b89a",
   "metadata": {},
   "source": [
    "import spam\n",
    "a=spam.bacon()"
   ]
  },
  {
   "cell_type": "code",
   "execution_count": null,
   "id": "eda32267",
   "metadata": {},
   "outputs": [],
   "source": []
  }
 ],
 "metadata": {
  "kernelspec": {
   "display_name": "Python 3 (ipykernel)",
   "language": "python",
   "name": "python3"
  },
  "language_info": {
   "codemirror_mode": {
    "name": "ipython",
    "version": 3
   },
   "file_extension": ".py",
   "mimetype": "text/x-python",
   "name": "python",
   "nbconvert_exporter": "python",
   "pygments_lexer": "ipython3",
   "version": "3.9.7"
  }
 },
 "nbformat": 4,
 "nbformat_minor": 5
}
